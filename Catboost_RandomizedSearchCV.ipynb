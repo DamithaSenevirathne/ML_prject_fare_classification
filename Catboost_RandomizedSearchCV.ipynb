{
 "cells": [
  {
   "cell_type": "code",
   "execution_count": 401,
   "metadata": {},
   "outputs": [],
   "source": [
    "# compare ensemble to each baseline classifier\n",
    "from numpy import mean\n",
    "from numpy import std\n",
    "from sklearn.datasets import make_classification\n",
    "from sklearn.model_selection import cross_val_score\n",
    "from sklearn.model_selection import RepeatedStratifiedKFold\n",
    "from sklearn.linear_model import LogisticRegression\n",
    "from sklearn.neighbors import KNeighborsClassifier\n",
    "from sklearn.tree import DecisionTreeClassifier\n",
    "from sklearn.ensemble.gradient_boosting import GradientBoostingClassifier\n",
    "from sklearn.ensemble.forest import RandomForestClassifier\n",
    "from sklearn.svm import SVC\n",
    "from sklearn.naive_bayes import GaussianNB\n",
    "from xgboost import XGBClassifier\n",
    "from catboost import CatBoostClassifier\n",
    "from sklearn.ensemble import StackingClassifier\n",
    "from matplotlib import pyplot\n",
    "from sklearn.model_selection import train_test_split\n",
    "import pandas as pd\n",
    "from catboost import CatBoostClassifier, Pool, cv\n",
    "import math\n",
    "import numpy as np\n",
    "from scipy.stats import uniform as sp_randFloat\n",
    "from scipy.stats import randint as sp_randInt\n",
    "def deg_to_rad(dr):\n",
    "    return (dr*math.pi)/180\n"
   ]
  },
  {
   "cell_type": "code",
   "execution_count": 402,
   "metadata": {},
   "outputs": [],
   "source": [
    "df = pd.read_csv('train.csv')\n",
    "df['label'] = df['label'].map({'correct': 1, 'incorrect': 0})\n",
    "df = df.dropna()\n",
    "df = df.drop(['pickup_time','drop_time'], axis = 1)\n",
    "\n",
    "df['pick_lat'] = deg_to_rad(df['pick_lat'])\n",
    "df['pick_lon'] = deg_to_rad(df['pick_lon'])\n",
    "df['drop_lat'] = deg_to_rad(df['drop_lat'])\n",
    "df['drop_lon'] = deg_to_rad(df['drop_lon'])\n",
    "dlon = df['drop_lon'] - df['pick_lon']\n",
    "dlat = df['drop_lat'] - df['pick_lat']\n",
    "df['dist'] = np.sin(dlat/2)**2 + np.cos(df['pick_lat'])*np.cos(df['drop_lat'])*np.sin(dlon/2)**2\n",
    "df['dist'] = 2*np.arctan2(df['dist']**0.5,(1-df['dist'])**0.5)\n",
    "R = 6373.0\n",
    "df['dist'] = R*df['dist']"
   ]
  },
  {
   "cell_type": "code",
   "execution_count": 403,
   "metadata": {},
   "outputs": [],
   "source": [
    "df = df.drop(['tripid','pick_lat','pick_lon','drop_lat','drop_lon'], axis = 1) "
   ]
  },
  {
   "cell_type": "code",
   "execution_count": 404,
   "metadata": {},
   "outputs": [],
   "source": [
    "y = df['label']\n",
    "X = df.drop(['label'],axis=1)"
   ]
  },
  {
   "cell_type": "code",
   "execution_count": 405,
   "metadata": {},
   "outputs": [
    {
     "name": "stdout",
     "output_type": "stream",
     "text": [
      "0:\tlearn: 0.4242416\ttotal: 9.94ms\tremaining: 457ms\n",
      "1:\tlearn: 0.3221770\ttotal: 13.4ms\tremaining: 302ms\n",
      "2:\tlearn: 0.2699511\ttotal: 15.3ms\tremaining: 224ms\n",
      "3:\tlearn: 0.2349281\ttotal: 17.5ms\tremaining: 189ms\n",
      "4:\tlearn: 0.2197491\ttotal: 20.1ms\tremaining: 169ms\n",
      "5:\tlearn: 0.2105565\ttotal: 22ms\tremaining: 150ms\n",
      "6:\tlearn: 0.1971796\ttotal: 24ms\tremaining: 137ms\n",
      "7:\tlearn: 0.1932597\ttotal: 26ms\tremaining: 127ms\n",
      "8:\tlearn: 0.1883176\ttotal: 29.4ms\tremaining: 124ms\n",
      "9:\tlearn: 0.1843020\ttotal: 31.8ms\tremaining: 118ms\n",
      "10:\tlearn: 0.1756270\ttotal: 35.5ms\tremaining: 116ms\n",
      "11:\tlearn: 0.1719642\ttotal: 37.7ms\tremaining: 110ms\n",
      "12:\tlearn: 0.1693353\ttotal: 40.3ms\tremaining: 106ms\n",
      "13:\tlearn: 0.1669991\ttotal: 42.5ms\tremaining: 100ms\n",
      "14:\tlearn: 0.1636777\ttotal: 46.8ms\tremaining: 99.9ms\n",
      "15:\tlearn: 0.1623029\ttotal: 50.8ms\tremaining: 98.4ms\n",
      "16:\tlearn: 0.1607798\ttotal: 52.6ms\tremaining: 92.9ms\n",
      "17:\tlearn: 0.1597780\ttotal: 54.5ms\tremaining: 87.8ms\n",
      "18:\tlearn: 0.1587684\ttotal: 56.8ms\tremaining: 83.7ms\n",
      "19:\tlearn: 0.1579830\ttotal: 58.8ms\tremaining: 79.4ms\n",
      "20:\tlearn: 0.1553303\ttotal: 60.6ms\tremaining: 75.1ms\n",
      "21:\tlearn: 0.1542962\ttotal: 62.9ms\tremaining: 71.5ms\n",
      "22:\tlearn: 0.1533444\ttotal: 65.7ms\tremaining: 68.5ms\n",
      "23:\tlearn: 0.1518162\ttotal: 67.5ms\tremaining: 64.7ms\n",
      "24:\tlearn: 0.1511630\ttotal: 69.5ms\tremaining: 61.2ms\n",
      "25:\tlearn: 0.1487529\ttotal: 72.9ms\tremaining: 58.9ms\n",
      "26:\tlearn: 0.1464393\ttotal: 74.7ms\tremaining: 55.3ms\n",
      "27:\tlearn: 0.1450932\ttotal: 76.6ms\tremaining: 52ms\n",
      "28:\tlearn: 0.1438787\ttotal: 79.8ms\tremaining: 49.5ms\n",
      "29:\tlearn: 0.1429777\ttotal: 81.8ms\tremaining: 46.3ms\n",
      "30:\tlearn: 0.1420926\ttotal: 83.7ms\tremaining: 43.2ms\n",
      "31:\tlearn: 0.1415196\ttotal: 85.6ms\tremaining: 40.1ms\n",
      "32:\tlearn: 0.1410283\ttotal: 89.1ms\tremaining: 37.8ms\n",
      "33:\tlearn: 0.1401087\ttotal: 91ms\tremaining: 34.8ms\n",
      "34:\tlearn: 0.1397110\ttotal: 92.9ms\tremaining: 31.8ms\n",
      "35:\tlearn: 0.1389921\ttotal: 95.3ms\tremaining: 29.1ms\n",
      "36:\tlearn: 0.1380756\ttotal: 97.1ms\tremaining: 26.2ms\n",
      "37:\tlearn: 0.1377860\ttotal: 98.8ms\tremaining: 23.4ms\n",
      "38:\tlearn: 0.1371691\ttotal: 100ms\tremaining: 20.6ms\n",
      "39:\tlearn: 0.1362164\ttotal: 103ms\tremaining: 18ms\n",
      "40:\tlearn: 0.1359509\ttotal: 105ms\tremaining: 15.3ms\n",
      "41:\tlearn: 0.1352478\ttotal: 107ms\tremaining: 12.7ms\n",
      "42:\tlearn: 0.1346221\ttotal: 108ms\tremaining: 10.1ms\n",
      "43:\tlearn: 0.1344919\ttotal: 110ms\tremaining: 7.52ms\n",
      "44:\tlearn: 0.1334483\ttotal: 112ms\tremaining: 4.98ms\n",
      "45:\tlearn: 0.1331211\ttotal: 114ms\tremaining: 2.47ms\n",
      "46:\tlearn: 0.1328518\ttotal: 115ms\tremaining: 0us\n"
     ]
    },
    {
     "data": {
      "text/plain": [
       "RandomizedSearchCV(cv=2,\n",
       "                   estimator=<catboost.core.CatBoostClassifier object at 0x7fcacbe2eb38>,\n",
       "                   n_jobs=-1,\n",
       "                   param_distributions={'depth': <scipy.stats._distn_infrastructure.rv_frozen object at 0x7fcacbe2eb70>,\n",
       "                                        'iterations': <scipy.stats._distn_infrastructure.rv_frozen object at 0x7fcacbdc4470>,\n",
       "                                        'learning_rate': <scipy.stats._distn_infrastructure.rv_frozen object at 0x7fcacbd6e748>})"
      ]
     },
     "execution_count": 405,
     "metadata": {},
     "output_type": "execute_result"
    }
   ],
   "source": [
    "from sklearn.model_selection import RandomizedSearchCV\n",
    "X_train, X_test, y_train, y_test = train_test_split(X, y, test_size=0.25)\n",
    "\n",
    "model = CatBoostClassifier()\n",
    "parameters = {'depth'         : sp_randInt(4, 10),\n",
    "                  'learning_rate' : sp_randFloat(),\n",
    "                  'iterations'    : sp_randInt(10, 100)\n",
    "                 }\n",
    "\n",
    "randm = RandomizedSearchCV(estimator=model, param_distributions = parameters,\n",
    "                               cv = 2, n_iter = 10, n_jobs=-1)\n",
    "randm.fit(X_train, y_train)"
   ]
  },
  {
   "cell_type": "code",
   "execution_count": 406,
   "metadata": {},
   "outputs": [
    {
     "name": "stdout",
     "output_type": "stream",
     "text": [
      "F1 score = 0.9775309265337034\n"
     ]
    }
   ],
   "source": [
    "from sklearn.metrics import precision_score, recall_score, accuracy_score, f1_score\n",
    "preds = randm.predict(X_test)\n",
    "print(\"F1 score = {}\".format(f1_score(y_test, preds)))"
   ]
  },
  {
   "cell_type": "code",
   "execution_count": 407,
   "metadata": {},
   "outputs": [],
   "source": [
    "df_test = pd.read_csv('test.csv')\n",
    "df_test['pick_lat'] = deg_to_rad(df_test['pick_lat'])\n",
    "df_test['pick_lon'] = deg_to_rad(df_test['pick_lon'])\n",
    "df_test['drop_lat'] = deg_to_rad(df_test['drop_lat'])\n",
    "df_test['drop_lon'] = deg_to_rad(df_test['drop_lon'])\n",
    "dlon = df_test['drop_lon'] - df_test['pick_lon']\n",
    "dlat = df_test['drop_lat'] - df_test['pick_lat']\n",
    "df_test['dist'] = np.sin(dlat/2)**2 + np.cos(df_test['pick_lat'])*np.cos(df_test['drop_lat'])*np.sin(dlon/2)**2\n",
    "df_test['dist'] = 2*np.arctan2(df_test['dist']**0.5,(1-df_test['dist'])**0.5)\n",
    "R = 6373.0\n",
    "df_test['dist'] = R*df_test['dist']\n",
    "df_test =df_test.drop(['pickup_time','drop_time','pick_lat','pick_lon','drop_lat','drop_lon'], axis = 1)\n",
    "df_new = df_test[:]\n",
    "df_test = df_test.drop(['tripid'], axis = 1)\n",
    "X_2 = df_test\n",
    "y_ran_pred=randm.predict(X_2)\n",
    "df_new['prediction'] = y_ran_pred"
   ]
  },
  {
   "cell_type": "code",
   "execution_count": 408,
   "metadata": {},
   "outputs": [],
   "source": [
    "df_new = df_new.drop(['meter_waiting_till_pickup','additional_fare','duration','meter_waiting','meter_waiting_fare','fare','dist'], axis = 1) "
   ]
  },
  {
   "cell_type": "code",
   "execution_count": 409,
   "metadata": {},
   "outputs": [],
   "source": [
    "df_new.to_csv(\"prediction_results_cat.csv\",index=False)"
   ]
  },
  {
   "cell_type": "code",
   "execution_count": 410,
   "metadata": {},
   "outputs": [
    {
     "data": {
      "text/html": [
       "<div>\n",
       "<style scoped>\n",
       "    .dataframe tbody tr th:only-of-type {\n",
       "        vertical-align: middle;\n",
       "    }\n",
       "\n",
       "    .dataframe tbody tr th {\n",
       "        vertical-align: top;\n",
       "    }\n",
       "\n",
       "    .dataframe thead th {\n",
       "        text-align: right;\n",
       "    }\n",
       "</style>\n",
       "<table border=\"1\" class=\"dataframe\">\n",
       "  <thead>\n",
       "    <tr style=\"text-align: right;\">\n",
       "      <th></th>\n",
       "      <th>tripid</th>\n",
       "      <th>prediction</th>\n",
       "    </tr>\n",
       "  </thead>\n",
       "  <tbody>\n",
       "    <tr>\n",
       "      <th>0</th>\n",
       "      <td>213284604</td>\n",
       "      <td>1</td>\n",
       "    </tr>\n",
       "    <tr>\n",
       "      <th>1</th>\n",
       "      <td>213286352</td>\n",
       "      <td>1</td>\n",
       "    </tr>\n",
       "    <tr>\n",
       "      <th>2</th>\n",
       "      <td>213293973</td>\n",
       "      <td>1</td>\n",
       "    </tr>\n",
       "    <tr>\n",
       "      <th>3</th>\n",
       "      <td>213294622</td>\n",
       "      <td>1</td>\n",
       "    </tr>\n",
       "    <tr>\n",
       "      <th>4</th>\n",
       "      <td>213298687</td>\n",
       "      <td>1</td>\n",
       "    </tr>\n",
       "    <tr>\n",
       "      <th>...</th>\n",
       "      <td>...</td>\n",
       "      <td>...</td>\n",
       "    </tr>\n",
       "    <tr>\n",
       "      <th>8571</th>\n",
       "      <td>222856243</td>\n",
       "      <td>1</td>\n",
       "    </tr>\n",
       "    <tr>\n",
       "      <th>8572</th>\n",
       "      <td>222857785</td>\n",
       "      <td>1</td>\n",
       "    </tr>\n",
       "    <tr>\n",
       "      <th>8573</th>\n",
       "      <td>222858416</td>\n",
       "      <td>1</td>\n",
       "    </tr>\n",
       "    <tr>\n",
       "      <th>8574</th>\n",
       "      <td>222858691</td>\n",
       "      <td>1</td>\n",
       "    </tr>\n",
       "    <tr>\n",
       "      <th>8575</th>\n",
       "      <td>222860703</td>\n",
       "      <td>1</td>\n",
       "    </tr>\n",
       "  </tbody>\n",
       "</table>\n",
       "<p>8576 rows × 2 columns</p>\n",
       "</div>"
      ],
      "text/plain": [
       "         tripid  prediction\n",
       "0     213284604           1\n",
       "1     213286352           1\n",
       "2     213293973           1\n",
       "3     213294622           1\n",
       "4     213298687           1\n",
       "...         ...         ...\n",
       "8571  222856243           1\n",
       "8572  222857785           1\n",
       "8573  222858416           1\n",
       "8574  222858691           1\n",
       "8575  222860703           1\n",
       "\n",
       "[8576 rows x 2 columns]"
      ]
     },
     "execution_count": 410,
     "metadata": {},
     "output_type": "execute_result"
    }
   ],
   "source": [
    "df_new"
   ]
  },
  {
   "cell_type": "code",
   "execution_count": 411,
   "metadata": {},
   "outputs": [
    {
     "data": {
      "text/plain": [
       "1    8235\n",
       "0     341\n",
       "Name: prediction, dtype: int64"
      ]
     },
     "execution_count": 411,
     "metadata": {},
     "output_type": "execute_result"
    }
   ],
   "source": [
    "df_new['prediction'].value_counts()"
   ]
  },
  {
   "cell_type": "code",
   "execution_count": null,
   "metadata": {},
   "outputs": [],
   "source": []
  }
 ],
 "metadata": {
  "kernelspec": {
   "display_name": "Python 3",
   "language": "python",
   "name": "python3"
  },
  "language_info": {
   "codemirror_mode": {
    "name": "ipython",
    "version": 3
   },
   "file_extension": ".py",
   "mimetype": "text/x-python",
   "name": "python",
   "nbconvert_exporter": "python",
   "pygments_lexer": "ipython3",
   "version": "3.6.9"
  }
 },
 "nbformat": 4,
 "nbformat_minor": 4
}
